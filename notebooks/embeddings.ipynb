{
 "cells": [
  {
   "cell_type": "code",
   "execution_count": 1,
   "metadata": {},
   "outputs": [],
   "source": [
    "from langchain_community.document_loaders.csv_loader import CSVLoader\n",
    "from langchain_community.document_loaders.dataframe import DataFrameLoader\n",
    "from langchain_community.vectorstores.faiss import FAISS\n",
    "from langchain_google_genai import GoogleGenerativeAIEmbeddings\n",
    "import pandas as pd\n",
    "from dotenv import load_dotenv\n",
    "import os\n",
    "\n",
    "from core.inference import similarity_search"
   ]
  },
  {
   "cell_type": "code",
   "execution_count": 2,
   "metadata": {},
   "outputs": [],
   "source": [
    "os.environ['CURL_CA_BUNDLE'] = ''"
   ]
  },
  {
   "cell_type": "code",
   "execution_count": 3,
   "metadata": {},
   "outputs": [
    {
     "data": {
      "text/plain": [
       "True"
      ]
     },
     "execution_count": 3,
     "metadata": {},
     "output_type": "execute_result"
    }
   ],
   "source": [
    "load_dotenv()"
   ]
  },
  {
   "cell_type": "code",
   "execution_count": 21,
   "metadata": {},
   "outputs": [],
   "source": [
    "df = pd.read_csv(\"./data/spotify_millsongdata.csv\")"
   ]
  },
  {
   "cell_type": "code",
   "execution_count": 22,
   "metadata": {},
   "outputs": [
    {
     "data": {
      "text/plain": [
       "(57650, 3)"
      ]
     },
     "execution_count": 22,
     "metadata": {},
     "output_type": "execute_result"
    }
   ],
   "source": [
    "df = df.dropna()\n",
    "df.reset_index(drop=True, inplace=True)\n",
    "df.shape"
   ]
  },
  {
   "cell_type": "code",
   "execution_count": 24,
   "metadata": {},
   "outputs": [
    {
     "data": {
      "text/html": [
       "<div>\n",
       "<style scoped>\n",
       "    .dataframe tbody tr th:only-of-type {\n",
       "        vertical-align: middle;\n",
       "    }\n",
       "\n",
       "    .dataframe tbody tr th {\n",
       "        vertical-align: top;\n",
       "    }\n",
       "\n",
       "    .dataframe thead th {\n",
       "        text-align: right;\n",
       "    }\n",
       "</style>\n",
       "<table border=\"1\" class=\"dataframe\">\n",
       "  <thead>\n",
       "    <tr style=\"text-align: right;\">\n",
       "      <th></th>\n",
       "      <th>artist</th>\n",
       "      <th>song</th>\n",
       "      <th>text</th>\n",
       "    </tr>\n",
       "  </thead>\n",
       "  <tbody>\n",
       "    <tr>\n",
       "      <th>0</th>\n",
       "      <td>ABBA</td>\n",
       "      <td>Ahe's My Kind Of Girl</td>\n",
       "      <td>Look at her face, it's a wonderful face    And...</td>\n",
       "    </tr>\n",
       "    <tr>\n",
       "      <th>1</th>\n",
       "      <td>ABBA</td>\n",
       "      <td>Andante, Andante</td>\n",
       "      <td>Take it easy with me, please    Touch me gentl...</td>\n",
       "    </tr>\n",
       "    <tr>\n",
       "      <th>2</th>\n",
       "      <td>ABBA</td>\n",
       "      <td>As Good As New</td>\n",
       "      <td>I'll never know why I had to go    Why I had t...</td>\n",
       "    </tr>\n",
       "    <tr>\n",
       "      <th>3</th>\n",
       "      <td>ABBA</td>\n",
       "      <td>Bang</td>\n",
       "      <td>Making somebody happy is a question of give an...</td>\n",
       "    </tr>\n",
       "    <tr>\n",
       "      <th>4</th>\n",
       "      <td>ABBA</td>\n",
       "      <td>Bang-A-Boomerang</td>\n",
       "      <td>Making somebody happy is a question of give an...</td>\n",
       "    </tr>\n",
       "  </tbody>\n",
       "</table>\n",
       "</div>"
      ],
      "text/plain": [
       "  artist                   song  \\\n",
       "0   ABBA  Ahe's My Kind Of Girl   \n",
       "1   ABBA       Andante, Andante   \n",
       "2   ABBA         As Good As New   \n",
       "3   ABBA                   Bang   \n",
       "4   ABBA       Bang-A-Boomerang   \n",
       "\n",
       "                                                text  \n",
       "0  Look at her face, it's a wonderful face    And...  \n",
       "1  Take it easy with me, please    Touch me gentl...  \n",
       "2  I'll never know why I had to go    Why I had t...  \n",
       "3  Making somebody happy is a question of give an...  \n",
       "4  Making somebody happy is a question of give an...  "
      ]
     },
     "execution_count": 24,
     "metadata": {},
     "output_type": "execute_result"
    }
   ],
   "source": [
    "df.head()"
   ]
  },
  {
   "cell_type": "code",
   "execution_count": 29,
   "metadata": {},
   "outputs": [],
   "source": [
    "loader = DataFrameLoader(df, page_content_column=\"text\")\n",
    "\n",
    "data = loader.load()"
   ]
  },
  {
   "cell_type": "code",
   "execution_count": 30,
   "metadata": {},
   "outputs": [
    {
     "data": {
      "text/plain": [
       "[Document(page_content=\"Look at her face, it's a wonderful face    And it means something special to me    Look at the way that she smiles when she sees me    How lucky can one fellow be?        She's just my kind of girl, she makes me feel fine    Who could ever believe that she could be mine?    She's just my kind of girl, without her I'm blue    And if she ever leaves me what could I do, what could I do?        And when we go for a walk in the park    And she holds me and squeezes my hand    We'll go on walking for hours and talking    About all the things that we plan        She's just my kind of girl, she makes me feel fine    Who could ever believe that she could be mine?    She's just my kind of girl, without her I'm blue    And if she ever leaves me what could I do, what could I do?    \", metadata={'artist': 'ABBA', 'song': \"Ahe's My Kind Of Girl\"}),\n",
       " Document(page_content=\"Take it easy with me, please    Touch me gently like a summer evening breeze    Take your time, make it slow    Andante, Andante    Just let the feeling grow        Make your fingers soft and light    Let your body be the velvet of the night    Touch my soul, you know how    Andante, Andante    Go slowly with me now        I'm your music    (I am your music and I am your song)    I'm your song    (I am your music and I am your song)    Play me time and time again and make me strong    (Play me again 'cause you're making me strong)    Make me sing, make me sound    (You make me sing and you make me)    Andante, Andante    Tread lightly on my ground    Andante, Andante    Oh please don't let me down        There's a shimmer in your eyes    Like the feeling of a thousand butterflies    Please don't talk, go on, play    Andante, Andante    And let me float away        I'm your music    (I am your music and I am your song)    I'm your song    (I am your music and I am your song)    Play me time and time again and make me strong    (Play me again 'cause you're making me strong)    Make me sing, make me sound    (You make me sing and you make me)    Andante, Andante    Tread lightly on my ground    Andante, Andante    Oh please don't let me down        Make me sing, make me sound    (You make me sing and you make me)    Andante, Andante    Tread lightly on my ground    Andante, Andante    Oh please don't let me down    Andante, Andante    Oh please don't let me down    \", metadata={'artist': 'ABBA', 'song': 'Andante, Andante'}),\n",
       " Document(page_content=\"I'll never know why I had to go    Why I had to put up such a lousy rotten show    Boy, I was tough, packing all my stuff    Saying I don't need you anymore, I've had enough    And now, look at me standing here again 'cause I found out that    Ma ma ma ma ma ma ma ma ma ma ma ma ma ma ma ma my life is here    Gotta have you near        As good as new, my love for you    And keeping it that way is my intention    As good as new and growing too    Yes, I think it's taking on a new dimension    It's as good as new, my love for you    Just like it used to be and even better    As good as new, thank God it's true    Darling, we were always meant to stay together        Feel like a creep, never felt so cheap    Never had a notion that my love could be so deep    How could I make such a dumb mistake    Now I know I'm not entitled to another break    But please, baby, I beg you to forgive 'cause I found out that    Ma ma ma ma ma ma ma ma ma ma ma ma ma ma ma ma my life is here    Gotta get you near        I thought that our love was at an end but here I am again        As good as new, my love for you    And keeping it that way is my intention    As good as new and growing too    Yes, I think it's taking on a new dimension    It's as good as new, my love for you    Just like it used to be and even better    As good as new, thank God it's true    Darling, we were always meant to stay together        Yes the love I have for you feels as good as new    Darling, we were always meant to stay together    \", metadata={'artist': 'ABBA', 'song': 'As Good As New'}),\n",
       " Document(page_content=\"Making somebody happy is a question of give and take    You can learn how to show it so come on, give yourself a break    Every smile and every little touch    Don't you know that they mean so much    Sweet sweet kisses so tender    Always will return to sender        Like a bang, a boom-a-boomerang    Dum-be-dum-dum be-dum-be-dum-dum    Oh bang, a boom-a-boomerang    Love is a tune you hum-de-hum-hum    So give it away, I think you'll learn    You'll get love in return    So bang, a boom-a-boomerang is love    A boom-a-boomerang is love        Love is always around and you can look for it anywhere    When you feel that you've found it my advice is to take good care    Never use it as a selfish tool    Never ever be such a fool    Every feeling you're showing    Is a boomerang you're throwing        Yes a bang, a boom-a-boomerang    Dum-be-dum-dum be-dum-be-dum-dum    Oh bang, a boom-a-boomerang    Love is a tune you hum-de-hum-hum    So give it away, I think you'll learn    You'll get love in return    So bang, a boom-a-boomerang is love        And if you're warm and tender    I'll kiss you, return to sender    Please surrender        Bang, a boom-a-boomerang    Dum-be-dum-dum be-dum-be-dum-dum    Oh bang, a boom-a-boomerang is love    A boom-a-boomerang is love    \", metadata={'artist': 'ABBA', 'song': 'Bang'}),\n",
       " Document(page_content=\"Making somebody happy is a question of give and take    You can learn how to show it so come on, give yourself a break    Every smile and every little touch    Don't you know that they mean so much    Sweet sweet kisses so tender    Always will return to sender        Like a bang, a boom-a-boomerang    Dumb-be-dumb-dumb be-dumb-be-dumb-dumb    Oh bang, a boom-a-boomerang    Love is a tune you hum-de-hum-hum    By giving away, I think you'll learn    You'll get love in return    So bang, a boom-a-boomerang is love    A boom-a-boomerang is love        Love is always around and you can look for it anywhere    When you feel that you've found it my advice is to take good care    Never use it as a selfish tool    Never ever be such a fool    Every feeling you're showing    Is a boomerang you're throwing        Yes a bang, a boom-a-boomerang    Dumb-be-dumb-dumb be-dumb-be-dumb-dumb    Oh bang, a boom-a-boomerang    Love is a tune you hum-de-hum-hum    By giving away, I think you'll learn    You'll get love in return    So bang, a boom-a-boomerang is love        And if you're warm and tender    I'll kiss you, return to sender    Please surrender        Bang, a boom-a-boomerang    Dumb-be-dumb-dumb be-dumb-be-dumb-dumb    Oh bang, a boom-a-boomerang is love    A boom-a-boomerang is love    \", metadata={'artist': 'ABBA', 'song': 'Bang-A-Boomerang'})]"
      ]
     },
     "execution_count": 30,
     "metadata": {},
     "output_type": "execute_result"
    }
   ],
   "source": [
    "data[:5]"
   ]
  },
  {
   "cell_type": "code",
   "execution_count": 12,
   "metadata": {},
   "outputs": [],
   "source": [
    "embeddings = GoogleGenerativeAIEmbeddings(model=\"models/embedding-001\")"
   ]
  },
  {
   "cell_type": "code",
   "execution_count": null,
   "metadata": {},
   "outputs": [],
   "source": [
    "faiss_index = FAISS.from_documents(data, embeddings)"
   ]
  },
  {
   "cell_type": "code",
   "execution_count": null,
   "metadata": {},
   "outputs": [],
   "source": [
    "faiss_index.save_local(\"vectorstores/sonnetdb\")"
   ]
  },
  {
   "cell_type": "code",
   "execution_count": 16,
   "metadata": {},
   "outputs": [],
   "source": [
    "faiss_index = FAISS.load_local(\"vectorstores/sonnetdb\", embeddings, allow_dangerous_deserialization=True)"
   ]
  },
  {
   "cell_type": "code",
   "execution_count": 18,
   "metadata": {},
   "outputs": [
    {
     "data": {
      "text/plain": [
       "[Document(page_content=\"All the leaves are brown    And the sky is grey    I went for a walk    On a winters day    Id be safe and warm    If I was in L. A.    California dreamin    On such a winters day        I stopped into a church (stopped into a church)    I passed along the way (passed along the way)    You know, I got down on my knees (got down on my knees)    And I pretend to pray (I pretend to pray)    Oh, the preacher likes the cold (preacher likes the cold)    He knows I'm gonna stay (knows I'm gonna stay)    Oh, california dreamin (california dreamin)    On such a winters day        All the leaves are brown (the leaves are brown)    And the sky is grey (and the sky is grey)    I went for a walk (I went for a walk)    On a winters day (on a winters day)    If I didn't tell her (if I didn't tell her)    I could leave today (I could leave today)        Oh, california dreamin (california dreamin)    On such a winters day (california dreamin)    On such a winters day (california dreamin)    On such a winters day (california dreamin)    On such a winters day    \", metadata={'artist': 'Beach Boys', 'song': 'California Dremaing'}),\n",
       " Document(page_content=\"Leaves were falling, just like embers,    In colors red and gold, they set us on fire    Burning just like moonbeams in our eyes.        [Chorus]    Somebody said they saw me, swinging the world by the tail    Bouncing over a white cloud, killing the blues.        Now I'm guilty of something    I hope you never do    Because there is nothing    Any sadder than losing yourself in love.        [Chorus]        And then you've ask me, just to leave you    To set out on my own    And get what I needed.    You want me to find what I've already had.        [Chorus x2]    \", metadata={'artist': 'Alison Krauss', 'song': 'Killing The Blues'}),\n",
       " Document(page_content=\"I watch the snow flakes fall    Against my window pane    And wonder if you    Are watching snow flakes too        I take a walk downtown    To where you used to meet me    Theres joy everywhere    But all that's waiting there        Is just a little Christmas tree    Lookin sorta sad n lonely just like me    Noone seems to care    They just went away    And left it standing there    All alone on Christmas Eve        I hear the Christmas bell    The happy people singing    The songs of good cheer    That only brings me tears        I sadly close my eyes    And say a little prayer    You'll be waiting there for me    I look but all I see        Is just a little Christmas tree    Lookin sorta sad n lonely just like me    Noone seems to care    They just went away and left it standing there    All alone on Christmas eve        This is the season of love    But I'm as sad as I can be    Why did you have to leave me        Oh little Christmas tree    Lookin sorta sad n lonely just like me    Noone seems to care    They just went away    And left it standing there    All alone on Christmas Eve    \", metadata={'artist': 'Christmas Songs', 'song': 'Little Christmas Tree'}),\n",
       " Document(page_content=\"When the autumn leaves are falling to the ground    When the air gets cold then I think of us    Of you and I    And it almost makes me cry    So sad and kind of bitter sweet    And the memories filled with tears    And I feel my heart will break    Guess it all was my mistake        Autumn's chilly winds were blowing through the trees    The rain fell softly on your face    Oh I remember every little thing about that day    I remember every place    Grey skies, you were laughing at the clouds    The rain fell softly on your face    The memories of our time together cannot be replaced    I never loved you more than on those happy autumn days    \", metadata={'artist': 'ABBA', 'song': 'Hamlet III'}),\n",
       " Document(page_content=\"Was a long and dark December    From the rooftops I remember    There was snow    White snow        Clearly I remember    From the windows they were watching    While we froze down below        When the future's architectured    By a carnival of idiots on show    You'd better lie low        [Chorus]    If you love me    Won't you let me know?        Was a long and dark December    When the banks became cathedrals    And the fox    Became God        Priests clutched onto bibles    Hollowed out to fit their rifles    And the cross was held aloft        Bury me in armour    When I'm dead and hit the ground    My nerves are poles that unfold        [Chorus]        I don't want to be a soldier    With the captain of some sinking ship    Would stow, far below        So if you love me    Why'd you let me go?        I took my love down to violet hill    There we sat in snow    All the time she was silent and still        [Chorus: x2]    \", metadata={'artist': 'Coldplay', 'song': 'Violet Hill'})]"
      ]
     },
     "execution_count": 18,
     "metadata": {},
     "output_type": "execute_result"
    }
   ],
   "source": [
    "similarity_search(\"All the leaves are brown, and the sky is grey. I've been for a walk on a winter's day\", faiss_index, 5)"
   ]
  }
 ],
 "metadata": {
  "kernelspec": {
   "display_name": "venv",
   "language": "python",
   "name": "python3"
  },
  "language_info": {
   "codemirror_mode": {
    "name": "ipython",
    "version": 3
   },
   "file_extension": ".py",
   "mimetype": "text/x-python",
   "name": "python",
   "nbconvert_exporter": "python",
   "pygments_lexer": "ipython3",
   "version": "3.11.6"
  }
 },
 "nbformat": 4,
 "nbformat_minor": 2
}
